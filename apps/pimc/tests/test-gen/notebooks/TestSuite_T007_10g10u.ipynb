{
 "cells": [
  {
   "cell_type": "code",
   "execution_count": 1,
   "id": "bd152609-1009-4044-ba80-eb9f27e0728b",
   "metadata": {},
   "outputs": [],
   "source": [
    "%reload_ext autoreload\n",
    "%autoreload 2"
   ]
  },
  {
   "cell_type": "code",
   "execution_count": 2,
   "id": "dd4be3a1-28ea-454f-a199-5c3bb71bea7b",
   "metadata": {},
   "outputs": [],
   "source": [
    "from pimsm import Group\n",
    "from notebook_utils.test_suite import test_suite"
   ]
  },
  {
   "cell_type": "code",
   "execution_count": 3,
   "id": "3e285873-a504-4cd2-ba43-e4c23c98961b",
   "metadata": {},
   "outputs": [
    {
     "data": {
      "text/html": [
       "<p><b>Update 1</b>: size 1460, remaining size 6</p>"
      ],
      "text/plain": [
       "<IPython.core.display.HTML object>"
      ]
     },
     "metadata": {},
     "output_type": "display_data"
    },
    {
     "data": {
      "text/html": [
       "<table border=\"1\" class=\"dataframe\">\n",
       "  <thead>\n",
       "    <tr style=\"text-align: right;\">\n",
       "      <th>group</th>\n",
       "      <th>joins</th>\n",
       "      <th>prunes</th>\n",
       "      <th>size</th>\n",
       "    </tr>\n",
       "  </thead>\n",
       "  <tbody>\n",
       "    <tr>\n",
       "      <td>239.1.1.1</td>\n",
       "      <td>1</td>\n",
       "      <td>180</td>\n",
       "      <td>1460</td>\n",
       "    </tr>\n",
       "  </tbody>\n",
       "</table>"
      ],
      "text/plain": [
       "<IPython.core.display.HTML object>"
      ]
     },
     "metadata": {},
     "output_type": "display_data"
    },
    {
     "data": {
      "text/html": [
       "<p><b>Update 2</b>: size 1460, remaining size 6</p>"
      ],
      "text/plain": [
       "<IPython.core.display.HTML object>"
      ]
     },
     "metadata": {},
     "output_type": "display_data"
    },
    {
     "data": {
      "text/html": [
       "<table border=\"1\" class=\"dataframe\">\n",
       "  <thead>\n",
       "    <tr style=\"text-align: right;\">\n",
       "      <th>group</th>\n",
       "      <th>joins</th>\n",
       "      <th>prunes</th>\n",
       "      <th>size</th>\n",
       "    </tr>\n",
       "  </thead>\n",
       "  <tbody>\n",
       "    <tr>\n",
       "      <td>239.1.1.1</td>\n",
       "      <td>181</td>\n",
       "      <td>0</td>\n",
       "      <td>1460</td>\n",
       "    </tr>\n",
       "  </tbody>\n",
       "</table>"
      ],
      "text/plain": [
       "<IPython.core.display.HTML object>"
      ]
     },
     "metadata": {},
     "output_type": "display_data"
    },
    {
     "data": {
      "text/html": [
       "<p><b>Update 3</b>: size 1464, remaining size 2</p>"
      ],
      "text/plain": [
       "<IPython.core.display.HTML object>"
      ]
     },
     "metadata": {},
     "output_type": "display_data"
    },
    {
     "data": {
      "text/html": [
       "<table border=\"1\" class=\"dataframe\">\n",
       "  <thead>\n",
       "    <tr style=\"text-align: right;\">\n",
       "      <th>group</th>\n",
       "      <th>joins</th>\n",
       "      <th>prunes</th>\n",
       "      <th>size</th>\n",
       "    </tr>\n",
       "  </thead>\n",
       "  <tbody>\n",
       "    <tr>\n",
       "      <td>239.1.1.1</td>\n",
       "      <td>20</td>\n",
       "      <td>0</td>\n",
       "      <td>172</td>\n",
       "    </tr>\n",
       "    <tr>\n",
       "      <td>239.1.1.2</td>\n",
       "      <td>30</td>\n",
       "      <td>0</td>\n",
       "      <td>252</td>\n",
       "    </tr>\n",
       "    <tr>\n",
       "      <td>239.1.1.3</td>\n",
       "      <td>1</td>\n",
       "      <td>0</td>\n",
       "      <td>20</td>\n",
       "    </tr>\n",
       "    <tr>\n",
       "      <td>239.1.1.4</td>\n",
       "      <td>36</td>\n",
       "      <td>90</td>\n",
       "      <td>1020</td>\n",
       "    </tr>\n",
       "  </tbody>\n",
       "</table>"
      ],
      "text/plain": [
       "<IPython.core.display.HTML object>"
      ]
     },
     "metadata": {},
     "output_type": "display_data"
    },
    {
     "data": {
      "text/html": [
       "<p><b>Update 4</b>: size 1460, remaining size 6</p>"
      ],
      "text/plain": [
       "<IPython.core.display.HTML object>"
      ]
     },
     "metadata": {},
     "output_type": "display_data"
    },
    {
     "data": {
      "text/html": [
       "<table border=\"1\" class=\"dataframe\">\n",
       "  <thead>\n",
       "    <tr style=\"text-align: right;\">\n",
       "      <th>group</th>\n",
       "      <th>joins</th>\n",
       "      <th>prunes</th>\n",
       "      <th>size</th>\n",
       "    </tr>\n",
       "  </thead>\n",
       "  <tbody>\n",
       "    <tr>\n",
       "      <td>239.1.1.4</td>\n",
       "      <td>181</td>\n",
       "      <td>0</td>\n",
       "      <td>1460</td>\n",
       "    </tr>\n",
       "  </tbody>\n",
       "</table>"
      ],
      "text/plain": [
       "<IPython.core.display.HTML object>"
      ]
     },
     "metadata": {},
     "output_type": "display_data"
    },
    {
     "data": {
      "text/html": [
       "<p><b>Update 5</b>: size 1460, remaining size 6</p>"
      ],
      "text/plain": [
       "<IPython.core.display.HTML object>"
      ]
     },
     "metadata": {},
     "output_type": "display_data"
    },
    {
     "data": {
      "text/html": [
       "<table border=\"1\" class=\"dataframe\">\n",
       "  <thead>\n",
       "    <tr style=\"text-align: right;\">\n",
       "      <th>group</th>\n",
       "      <th>joins</th>\n",
       "      <th>prunes</th>\n",
       "      <th>size</th>\n",
       "    </tr>\n",
       "  </thead>\n",
       "  <tbody>\n",
       "    <tr>\n",
       "      <td>239.1.1.4</td>\n",
       "      <td>181</td>\n",
       "      <td>0</td>\n",
       "      <td>1460</td>\n",
       "    </tr>\n",
       "  </tbody>\n",
       "</table>"
      ],
      "text/plain": [
       "<IPython.core.display.HTML object>"
      ]
     },
     "metadata": {},
     "output_type": "display_data"
    },
    {
     "data": {
      "text/html": [
       "<p><b>Update 6</b>: size 1460, remaining size 6</p>"
      ],
      "text/plain": [
       "<IPython.core.display.HTML object>"
      ]
     },
     "metadata": {},
     "output_type": "display_data"
    },
    {
     "data": {
      "text/html": [
       "<table border=\"1\" class=\"dataframe\">\n",
       "  <thead>\n",
       "    <tr style=\"text-align: right;\">\n",
       "      <th>group</th>\n",
       "      <th>joins</th>\n",
       "      <th>prunes</th>\n",
       "      <th>size</th>\n",
       "    </tr>\n",
       "  </thead>\n",
       "  <tbody>\n",
       "    <tr>\n",
       "      <td>239.1.1.4</td>\n",
       "      <td>65</td>\n",
       "      <td>0</td>\n",
       "      <td>532</td>\n",
       "    </tr>\n",
       "    <tr>\n",
       "      <td>239.1.1.5</td>\n",
       "      <td>11</td>\n",
       "      <td>49</td>\n",
       "      <td>492</td>\n",
       "    </tr>\n",
       "    <tr>\n",
       "      <td>239.1.1.6</td>\n",
       "      <td>53</td>\n",
       "      <td>0</td>\n",
       "      <td>436</td>\n",
       "    </tr>\n",
       "  </tbody>\n",
       "</table>"
      ],
      "text/plain": [
       "<IPython.core.display.HTML object>"
      ]
     },
     "metadata": {},
     "output_type": "display_data"
    },
    {
     "data": {
      "text/html": [
       "<p><b>Update 7</b>: size 1460, remaining size 6</p>"
      ],
      "text/plain": [
       "<IPython.core.display.HTML object>"
      ]
     },
     "metadata": {},
     "output_type": "display_data"
    },
    {
     "data": {
      "text/html": [
       "<table border=\"1\" class=\"dataframe\">\n",
       "  <thead>\n",
       "    <tr style=\"text-align: right;\">\n",
       "      <th>group</th>\n",
       "      <th>joins</th>\n",
       "      <th>prunes</th>\n",
       "      <th>size</th>\n",
       "    </tr>\n",
       "  </thead>\n",
       "  <tbody>\n",
       "    <tr>\n",
       "      <td>239.1.1.6</td>\n",
       "      <td>1</td>\n",
       "      <td>180</td>\n",
       "      <td>1460</td>\n",
       "    </tr>\n",
       "  </tbody>\n",
       "</table>"
      ],
      "text/plain": [
       "<IPython.core.display.HTML object>"
      ]
     },
     "metadata": {},
     "output_type": "display_data"
    },
    {
     "data": {
      "text/html": [
       "<p><b>Update 8</b>: size 1464, remaining size 2</p>"
      ],
      "text/plain": [
       "<IPython.core.display.HTML object>"
      ]
     },
     "metadata": {},
     "output_type": "display_data"
    },
    {
     "data": {
      "text/html": [
       "<table border=\"1\" class=\"dataframe\">\n",
       "  <thead>\n",
       "    <tr style=\"text-align: right;\">\n",
       "      <th>group</th>\n",
       "      <th>joins</th>\n",
       "      <th>prunes</th>\n",
       "      <th>size</th>\n",
       "    </tr>\n",
       "  </thead>\n",
       "  <tbody>\n",
       "    <tr>\n",
       "      <td>239.1.1.6</td>\n",
       "      <td>37</td>\n",
       "      <td>0</td>\n",
       "      <td>308</td>\n",
       "    </tr>\n",
       "    <tr>\n",
       "      <td>239.1.1.7</td>\n",
       "      <td>113</td>\n",
       "      <td>30</td>\n",
       "      <td>1156</td>\n",
       "    </tr>\n",
       "  </tbody>\n",
       "</table>"
      ],
      "text/plain": [
       "<IPython.core.display.HTML object>"
      ]
     },
     "metadata": {},
     "output_type": "display_data"
    },
    {
     "data": {
      "text/html": [
       "<p><b>Update 9</b>: size 996, remaining size 470</p>"
      ],
      "text/plain": [
       "<IPython.core.display.HTML object>"
      ]
     },
     "metadata": {},
     "output_type": "display_data"
    },
    {
     "data": {
      "text/html": [
       "<table border=\"1\" class=\"dataframe\">\n",
       "  <thead>\n",
       "    <tr style=\"text-align: right;\">\n",
       "      <th>group</th>\n",
       "      <th>joins</th>\n",
       "      <th>prunes</th>\n",
       "      <th>size</th>\n",
       "    </tr>\n",
       "  </thead>\n",
       "  <tbody>\n",
       "    <tr>\n",
       "      <td>239.1.1.7</td>\n",
       "      <td>89</td>\n",
       "      <td>0</td>\n",
       "      <td>724</td>\n",
       "    </tr>\n",
       "    <tr>\n",
       "      <td>239.1.1.8</td>\n",
       "      <td>30</td>\n",
       "      <td>0</td>\n",
       "      <td>252</td>\n",
       "    </tr>\n",
       "    <tr>\n",
       "      <td>239.1.1.9</td>\n",
       "      <td>1</td>\n",
       "      <td>0</td>\n",
       "      <td>20</td>\n",
       "    </tr>\n",
       "  </tbody>\n",
       "</table>"
      ],
      "text/plain": [
       "<IPython.core.display.HTML object>"
      ]
     },
     "metadata": {},
     "output_type": "display_data"
    },
    {
     "data": {
      "text/html": [
       "<p><b>Update 10</b>: size 1452, remaining size 14</p>"
      ],
      "text/plain": [
       "<IPython.core.display.HTML object>"
      ]
     },
     "metadata": {},
     "output_type": "display_data"
    },
    {
     "data": {
      "text/html": [
       "<table border=\"1\" class=\"dataframe\">\n",
       "  <thead>\n",
       "    <tr style=\"text-align: right;\">\n",
       "      <th>group</th>\n",
       "      <th>joins</th>\n",
       "      <th>prunes</th>\n",
       "      <th>size</th>\n",
       "    </tr>\n",
       "  </thead>\n",
       "  <tbody>\n",
       "    <tr>\n",
       "      <td>239.1.1.10</td>\n",
       "      <td>1</td>\n",
       "      <td>179</td>\n",
       "      <td>1452</td>\n",
       "    </tr>\n",
       "  </tbody>\n",
       "</table>"
      ],
      "text/plain": [
       "<IPython.core.display.HTML object>"
      ]
     },
     "metadata": {},
     "output_type": "display_data"
    }
   ],
   "source": [
    "test_suite(\n",
    "    \"T007 10 groups, 10 updates\",\n",
    "    \n",
    "    Group(\"239.1.1.1\")\n",
    "    .join_range(\"10.1.1.50\", \"10.1.1.250\")\n",
    "    .join_rp(\"192.168.1.5\")\n",
    "    .rpt_prune_range(\"10.1.2.50\", \"10.1.2.229\"),\n",
    "\n",
    "    Group(\"239.1.1.2\")\n",
    "    .join_range(\"10.1.1.20\", \"10.1.1.49\"),\n",
    "\n",
    "    Group(\"239.1.1.3\")\n",
    "    .join_rp(\"192.168.1.5\"),\n",
    "\n",
    "    Group(\"239.1.1.4\")\n",
    "    .join_range(\"10.1.1.20\", \"10.1.1.250\")\n",
    "    .join_range(\"10.1.2.20\", \"10.1.2.250\")\n",
    "    .join_rp(\"192.168.1.6\")\n",
    "    .rpt_prune_range(\"10.2.1.20\", \"10.2.1.109\"),\n",
    "\n",
    "    Group(\"239.1.1.5\")\n",
    "    .join_range(\"10.1.1.30\", \"10.1.1.39\")\n",
    "    .join_rp(\"192.168.1.6\")\n",
    "    .rpt_prune_range(\"10.2.1.20\", \"10.2.1.68\"),\n",
    "\n",
    "    Group(\"239.1.1.6\")\n",
    "    .join_range(\"10.1.1.20\", \"10.1.1.109\")\n",
    "    .join_rp(\"192.168.1.5\")\n",
    "    .rpt_prune_range(\"10.2.1.20\", \"10.2.1.199\"),\n",
    "\n",
    "    Group(\"239.1.1.7\")\n",
    "    .join_range(\"10.1.1.50\", \"10.1.1.250\")\n",
    "    .join_rp(\"192.168.1.6\")\n",
    "    .rpt_prune_range(\"10.2.1.20\", \"10.2.1.49\"),\n",
    "\n",
    "    Group(\"239.1.1.8\")\n",
    "    .join_range(\"10.1.1.50\", \"10.1.1.79\"),\n",
    "\n",
    "    Group(\"239.1.1.9\")\n",
    "    .join_rp(\"192.168.1.8\"),\n",
    "\n",
    "    Group(\"239.1.1.10\")\n",
    "    .join_rp(\"192.168.1.8\")\n",
    "    .rpt_prune_range(\"10.1.1.20\", \"10.1.1.198\"),\n",
    ")    "
   ]
  },
  {
   "cell_type": "code",
   "execution_count": null,
   "id": "ea941416-1d9b-496a-ac1f-2196ac518c4c",
   "metadata": {},
   "outputs": [],
   "source": []
  }
 ],
 "metadata": {
  "kernelspec": {
   "display_name": "Python 3 (ipykernel)",
   "language": "python",
   "name": "python3"
  },
  "language_info": {
   "codemirror_mode": {
    "name": "ipython",
    "version": 3
   },
   "file_extension": ".py",
   "mimetype": "text/x-python",
   "name": "python",
   "nbconvert_exporter": "python",
   "pygments_lexer": "ipython3",
   "version": "3.9.16"
  }
 },
 "nbformat": 4,
 "nbformat_minor": 5
}
