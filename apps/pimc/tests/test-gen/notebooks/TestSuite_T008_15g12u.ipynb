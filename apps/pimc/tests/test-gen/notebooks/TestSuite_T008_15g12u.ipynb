{
 "cells": [
  {
   "cell_type": "code",
   "execution_count": 1,
   "id": "bd152609-1009-4044-ba80-eb9f27e0728b",
   "metadata": {},
   "outputs": [],
   "source": [
    "%reload_ext autoreload\n",
    "%autoreload 2"
   ]
  },
  {
   "cell_type": "code",
   "execution_count": 2,
   "id": "dd4be3a1-28ea-454f-a199-5c3bb71bea7b",
   "metadata": {},
   "outputs": [
    {
     "ename": "ModuleNotFoundError",
     "evalue": "No module named 'pimc'",
     "output_type": "error",
     "traceback": [
      "\u001b[0;31m---------------------------------------------------------------------------\u001b[0m",
      "\u001b[0;31mModuleNotFoundError\u001b[0m                       Traceback (most recent call last)",
      "Cell \u001b[0;32mIn[2], line 1\u001b[0m\n\u001b[0;32m----> 1\u001b[0m \u001b[38;5;28;01mfrom\u001b[39;00m \u001b[38;5;21;01mpimsm\u001b[39;00m \u001b[38;5;28;01mimport\u001b[39;00m Group\n\u001b[1;32m      2\u001b[0m \u001b[38;5;28;01mfrom\u001b[39;00m \u001b[38;5;21;01mnotebook_utils\u001b[39;00m\u001b[38;5;21;01m.\u001b[39;00m\u001b[38;5;21;01mtest_suite\u001b[39;00m \u001b[38;5;28;01mimport\u001b[39;00m test_suite\n",
      "File \u001b[0;32m~/workspace/PIMC/pimc/apps/pimc/tests/test-gen/pimsm/__init__.py:1\u001b[0m\n\u001b[0;32m----> 1\u001b[0m \u001b[38;5;28;01mfrom\u001b[39;00m \u001b[38;5;21;01m.\u001b[39;00m\u001b[38;5;21;01mGroup\u001b[39;00m \u001b[38;5;28;01mimport\u001b[39;00m Group, GroupSummary\n\u001b[1;32m      2\u001b[0m \u001b[38;5;28;01mfrom\u001b[39;00m \u001b[38;5;21;01m.\u001b[39;00m\u001b[38;5;21;01mUpdate\u001b[39;00m \u001b[38;5;28;01mimport\u001b[39;00m Update\n\u001b[1;32m      3\u001b[0m \u001b[38;5;28;01mfrom\u001b[39;00m \u001b[38;5;21;01m.\u001b[39;00m\u001b[38;5;21;01mutils\u001b[39;00m \u001b[38;5;28;01mimport\u001b[39;00m addr, addr_range, dump_struct\n",
      "File \u001b[0;32m~/workspace/PIMC/pimc/apps/pimc/tests/test-gen/pimsm/Group.py:4\u001b[0m\n\u001b[1;32m      1\u001b[0m \u001b[38;5;28;01mimport\u001b[39;00m \u001b[38;5;21;01mdataclasses\u001b[39;00m\n\u001b[1;32m      2\u001b[0m \u001b[38;5;28;01mfrom\u001b[39;00m \u001b[38;5;21;01mtyping\u001b[39;00m \u001b[38;5;28;01mimport\u001b[39;00m Optional, Tuple, Union, List, Mapping, Any\n\u001b[0;32m----> 4\u001b[0m \u001b[38;5;28;01mimport\u001b[39;00m \u001b[38;5;21;01mpimc\u001b[39;00m\u001b[38;5;21;01m.\u001b[39;00m\u001b[38;5;21;01mIPv4\u001b[39;00m \u001b[38;5;28;01mas\u001b[39;00m \u001b[38;5;21;01mIPv4\u001b[39;00m\n\u001b[1;32m      6\u001b[0m \u001b[38;5;28;01mfrom\u001b[39;00m \u001b[38;5;21;01m.\u001b[39;00m\u001b[38;5;21;01mutils\u001b[39;00m \u001b[38;5;28;01mimport\u001b[39;00m addr, addr_range\n\u001b[1;32m      9\u001b[0m \u001b[38;5;129m@dataclasses\u001b[39m\u001b[38;5;241m.\u001b[39mdataclass\n\u001b[1;32m     10\u001b[0m \u001b[38;5;28;01mclass\u001b[39;00m \u001b[38;5;21;01mGroupSummary\u001b[39;00m:\n",
      "\u001b[0;31mModuleNotFoundError\u001b[0m: No module named 'pimc'"
     ]
    }
   ],
   "source": [
    "from pimsm import Group\n",
    "from notebook_utils.test_suite import test_suite"
   ]
  },
  {
   "cell_type": "code",
   "execution_count": null,
   "id": "3e285873-a504-4cd2-ba43-e4c23c98961b",
   "metadata": {},
   "outputs": [],
   "source": [
    "test_suite(\n",
    "    \"T008 15 groups, 12 updates\",\n",
    "    \n",
    "    Group(\"239.1.1.1\")\n",
    "    .join_range(\"10.1.1.50\", \"10.1.1.250\")\n",
    "    .join_rp(\"192.168.1.5\")\n",
    "    .rpt_prune_range(\"10.1.2.50\", \"10.1.2.229\"),\n",
    "\n",
    "    Group(\"239.1.1.2\")\n",
    "    .join_range(\"10.1.1.20\", \"10.1.1.49\"),\n",
    "\n",
    "    Group(\"239.1.1.3\")\n",
    "    .join_rp(\"192.168.1.5\"),\n",
    "\n",
    "    Group(\"239.1.1.4\")\n",
    "    .join_range(\"10.1.1.20\", \"10.1.1.250\")\n",
    "    .join_range(\"10.1.2.20\", \"10.1.2.250\")\n",
    "    .join_rp(\"192.168.1.6\")\n",
    "    .rpt_prune_range(\"10.2.1.20\", \"10.2.1.109\"),\n",
    "\n",
    "    Group(\"239.1.1.10\")\n",
    "    .join_rp(\"192.168.1.8\")\n",
    "    .rpt_prune_range(\"10.1.1.20\", \"10.1.1.198\"),\n",
    "    \n",
    "    Group(\"239.1.1.5\")\n",
    "    .join_range(\"10.1.1.30\", \"10.1.1.39\")\n",
    "    .join_rp(\"192.168.1.6\")\n",
    "    .rpt_prune_range(\"10.2.1.20\", \"10.2.1.68\"),\n",
    "\n",
    "    Group(\"239.1.1.6\")\n",
    "    .join_range(\"10.1.1.20\", \"10.1.1.109\")\n",
    "    .join_rp(\"192.168.1.5\")\n",
    "    .rpt_prune_range(\"10.2.1.20\", \"10.2.1.199\"),\n",
    "\n",
    "    Group(\"239.1.1.7\")\n",
    "    .join_range(\"10.1.1.50\", \"10.1.1.250\")\n",
    "    .join_rp(\"192.168.1.6\")\n",
    "    .rpt_prune_range(\"10.2.1.20\", \"10.2.1.49\"),\n",
    "\n",
    "    Group(\"239.1.1.8\")\n",
    "    .join_range(\"10.1.1.50\", \"10.1.1.79\"),\n",
    "\n",
    "    Group(\"239.1.1.9\")\n",
    "    .join_rp(\"192.168.1.8\"),\n",
    "\n",
    "    Group(\"239.1.1.0\")\n",
    "    .join_range(\"10.1.1.20\", \"10.1.1.29\")\n",
    "    .join_range(\"10.1.2.20\", \"10.1.2.39\"),\n",
    "\n",
    "    Group(\"239.1.1.11\")\n",
    "    .join_rp(\"192.168.1.10\")\n",
    "    .rpt_prune_range(\"10.1.1.10\", \"10.1.1.19\"),\n",
    "\n",
    "    Group(\"239.1.1.15\")\n",
    "    .join_range(\"10.1.1.20\", \"10.1.1.33\"),\n",
    "\n",
    "    Group(\"239.1.1.20\")\n",
    "    .join_rp(\"192.168.1.6\"),\n",
    "\n",
    "    Group(\"239.1.1.22\")\n",
    "    .join_range(\"10.1.2.30\", \"10.1.2.230\"),\n",
    ")    "
   ]
  },
  {
   "cell_type": "code",
   "execution_count": null,
   "id": "ea941416-1d9b-496a-ac1f-2196ac518c4c",
   "metadata": {},
   "outputs": [],
   "source": []
  }
 ],
 "metadata": {
  "kernelspec": {
   "display_name": "Python 3 (ipykernel)",
   "language": "python",
   "name": "python3"
  },
  "language_info": {
   "codemirror_mode": {
    "name": "ipython",
    "version": 3
   },
   "file_extension": ".py",
   "mimetype": "text/x-python",
   "name": "python",
   "nbconvert_exporter": "python",
   "pygments_lexer": "ipython3",
   "version": "3.9.16"
  }
 },
 "nbformat": 4,
 "nbformat_minor": 5
}
