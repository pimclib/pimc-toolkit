{
 "cells": [
  {
   "cell_type": "code",
   "execution_count": 1,
   "id": "bd152609-1009-4044-ba80-eb9f27e0728b",
   "metadata": {},
   "outputs": [],
   "source": [
    "%reload_ext autoreload\n",
    "%autoreload 2"
   ]
  },
  {
   "cell_type": "code",
   "execution_count": 2,
   "id": "dd4be3a1-28ea-454f-a199-5c3bb71bea7b",
   "metadata": {},
   "outputs": [],
   "source": [
    "from pimsm import Group, addr_range\n",
    "from notebook_utils.test_suite import test_suite"
   ]
  },
  {
   "cell_type": "code",
   "execution_count": 3,
   "id": "3e285873-a504-4cd2-ba43-e4c23c98961b",
   "metadata": {},
   "outputs": [
    {
     "data": {
      "text/html": [
       "<p><b>Update 1</b>: size 1464, remaining size 2</p>"
      ],
      "text/plain": [
       "<IPython.core.display.HTML object>"
      ]
     },
     "metadata": {},
     "output_type": "display_data"
    },
    {
     "data": {
      "text/html": [
       "<table border=\"1\" class=\"dataframe\">\n",
       "  <thead>\n",
       "    <tr style=\"text-align: right;\">\n",
       "      <th>group</th>\n",
       "      <th>joins</th>\n",
       "      <th>prunes</th>\n",
       "      <th>size</th>\n",
       "    </tr>\n",
       "  </thead>\n",
       "  <tbody>\n",
       "    <tr>\n",
       "      <td>239.1.2.1</td>\n",
       "      <td>100</td>\n",
       "      <td>0</td>\n",
       "      <td>812</td>\n",
       "    </tr>\n",
       "    <tr>\n",
       "      <td>239.1.2.2</td>\n",
       "      <td>80</td>\n",
       "      <td>0</td>\n",
       "      <td>652</td>\n",
       "    </tr>\n",
       "  </tbody>\n",
       "</table>"
      ],
      "text/plain": [
       "<IPython.core.display.HTML object>"
      ]
     },
     "metadata": {},
     "output_type": "display_data"
    },
    {
     "data": {
      "text/html": [
       "<p><b>Update 2</b>: size 1460, remaining size 6</p>"
      ],
      "text/plain": [
       "<IPython.core.display.HTML object>"
      ]
     },
     "metadata": {},
     "output_type": "display_data"
    },
    {
     "data": {
      "text/html": [
       "<table border=\"1\" class=\"dataframe\">\n",
       "  <thead>\n",
       "    <tr style=\"text-align: right;\">\n",
       "      <th>group</th>\n",
       "      <th>joins</th>\n",
       "      <th>prunes</th>\n",
       "      <th>size</th>\n",
       "    </tr>\n",
       "  </thead>\n",
       "  <tbody>\n",
       "    <tr>\n",
       "      <td>239.1.2.2</td>\n",
       "      <td>81</td>\n",
       "      <td>100</td>\n",
       "      <td>1460</td>\n",
       "    </tr>\n",
       "  </tbody>\n",
       "</table>"
      ],
      "text/plain": [
       "<IPython.core.display.HTML object>"
      ]
     },
     "metadata": {},
     "output_type": "display_data"
    },
    {
     "data": {
      "text/html": [
       "<p><b>Update 3</b>: size 580, remaining size 886</p>"
      ],
      "text/plain": [
       "<IPython.core.display.HTML object>"
      ]
     },
     "metadata": {},
     "output_type": "display_data"
    },
    {
     "data": {
      "text/html": [
       "<table border=\"1\" class=\"dataframe\">\n",
       "  <thead>\n",
       "    <tr style=\"text-align: right;\">\n",
       "      <th>group</th>\n",
       "      <th>joins</th>\n",
       "      <th>prunes</th>\n",
       "      <th>size</th>\n",
       "    </tr>\n",
       "  </thead>\n",
       "  <tbody>\n",
       "    <tr>\n",
       "      <td>239.1.2.2</td>\n",
       "      <td>71</td>\n",
       "      <td>0</td>\n",
       "      <td>580</td>\n",
       "    </tr>\n",
       "  </tbody>\n",
       "</table>"
      ],
      "text/plain": [
       "<IPython.core.display.HTML object>"
      ]
     },
     "metadata": {},
     "output_type": "display_data"
    }
   ],
   "source": [
    "test_suite(\n",
    "    \"T005 2 groups, 3 updates\",\n",
    "    Group(\"239.1.2.1\")\n",
    "    .join_range(\"10.1.1.50\", \"10.1.1.149\"),\n",
    "          \n",
    "    Group(\"239.1.2.2\")\n",
    "    .join_range(\"10.1.1.20\", \"10.1.1.250\")\n",
    "    .join_rp(\"192.168.1.5\")\n",
    "    .rpt_prune_range(\"10.1.2.20\", \"10.1.2.119\"),\n",
    ")"
   ]
  },
  {
   "cell_type": "code",
   "execution_count": null,
   "id": "ea941416-1d9b-496a-ac1f-2196ac518c4c",
   "metadata": {},
   "outputs": [],
   "source": []
  }
 ],
 "metadata": {
  "kernelspec": {
   "display_name": "Python 3 (ipykernel)",
   "language": "python",
   "name": "python3"
  },
  "language_info": {
   "codemirror_mode": {
    "name": "ipython",
    "version": 3
   },
   "file_extension": ".py",
   "mimetype": "text/x-python",
   "name": "python",
   "nbconvert_exporter": "python",
   "pygments_lexer": "ipython3",
   "version": "3.9.16"
  }
 },
 "nbformat": 4,
 "nbformat_minor": 5
}
