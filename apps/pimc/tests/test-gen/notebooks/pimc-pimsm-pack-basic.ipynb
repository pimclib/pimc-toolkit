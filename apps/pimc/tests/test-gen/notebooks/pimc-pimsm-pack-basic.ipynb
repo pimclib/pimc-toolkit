{
 "cells": [
  {
   "cell_type": "code",
   "execution_count": 1,
   "id": "44059305-d925-442e-8abc-dc9168f576c8",
   "metadata": {},
   "outputs": [],
   "source": [
    "%reload_ext autoreload\n",
    "%autoreload 2"
   ]
  },
  {
   "cell_type": "code",
   "execution_count": 2,
   "id": "0553b0e4-e3a5-4da1-a6dd-0703c421a129",
   "metadata": {},
   "outputs": [],
   "source": [
    "from pathlib import Path"
   ]
  },
  {
   "cell_type": "code",
   "execution_count": 3,
   "id": "b76beea1-685d-408a-a522-68377bf74cc0",
   "metadata": {},
   "outputs": [],
   "source": [
    "from pimsm import (\n",
    "    Group,\n",
    "    Update,\n",
    "    addr,\n",
    "    addr_range,\n",
    "    dump_struct,\n",
    "    updates_summary,\n",
    "    diff_jpcfg_vs_updates,\n",
    "    write_config,\n",
    "    pack,\n",
    ")"
   ]
  },
  {
   "cell_type": "code",
   "execution_count": 4,
   "id": "92287505-4194-4f5a-88da-90fb705412fc",
   "metadata": {},
   "outputs": [],
   "source": [
    "g1 = (\n",
    "    Group(\"239.1.2.3\")\n",
    "    .join(addr_range(\"10.1.1.50\", \"10.1.1.250\"))\n",
    "    .join_rp(\"192.168.1.5\")\n",
    "    .rpt_prune(addr_range(\"10.1.2.50\", \"10.1.2.200\"))\n",
    ")"
   ]
  },
  {
   "cell_type": "code",
   "execution_count": 5,
   "id": "0ee26022-fe27-43a6-aa37-2723869dd8b7",
   "metadata": {},
   "outputs": [],
   "source": [
    "upds = pack([g1])"
   ]
  },
  {
   "cell_type": "code",
   "execution_count": 6,
   "id": "914f91c5-da0d-4cb2-9510-3d3d77dca7a5",
   "metadata": {},
   "outputs": [
    {
     "data": {
      "text/html": [
       "<div>\n",
       "<style scoped>\n",
       "    .dataframe tbody tr th:only-of-type {\n",
       "        vertical-align: middle;\n",
       "    }\n",
       "\n",
       "    .dataframe tbody tr th {\n",
       "        vertical-align: top;\n",
       "    }\n",
       "\n",
       "    .dataframe thead th {\n",
       "        text-align: right;\n",
       "    }\n",
       "</style>\n",
       "<table border=\"1\" class=\"dataframe\">\n",
       "  <thead>\n",
       "    <tr style=\"text-align: right;\">\n",
       "      <th></th>\n",
       "      <th>update</th>\n",
       "      <th>rem_size</th>\n",
       "      <th>group</th>\n",
       "      <th>joins</th>\n",
       "      <th>prunes</th>\n",
       "      <th>size</th>\n",
       "    </tr>\n",
       "  </thead>\n",
       "  <tbody>\n",
       "    <tr>\n",
       "      <th>0</th>\n",
       "      <td>1</td>\n",
       "      <td>6</td>\n",
       "      <td>239.1.2.3</td>\n",
       "      <td>30</td>\n",
       "      <td>151</td>\n",
       "      <td>1460</td>\n",
       "    </tr>\n",
       "    <tr>\n",
       "      <th>1</th>\n",
       "      <td>2</td>\n",
       "      <td>78</td>\n",
       "      <td>239.1.2.3</td>\n",
       "      <td>172</td>\n",
       "      <td>0</td>\n",
       "      <td>1388</td>\n",
       "    </tr>\n",
       "  </tbody>\n",
       "</table>\n",
       "</div>"
      ],
      "text/plain": [
       "   update  rem_size      group  joins  prunes  size\n",
       "0       1         6  239.1.2.3     30     151  1460\n",
       "1       2        78  239.1.2.3    172       0  1388"
      ]
     },
     "execution_count": 6,
     "metadata": {},
     "output_type": "execute_result"
    }
   ],
   "source": [
    "updates_summary(upds)"
   ]
  },
  {
   "cell_type": "code",
   "execution_count": 8,
   "id": "f9e7f6a1-70a4-4de2-9336-e135a3463358",
   "metadata": {},
   "outputs": [],
   "source": [
    "diff = diff_jpcfg_vs_updates([g1], upds)\n",
    "\n",
    "if len(diff) > 0:\n",
    "    print(diff)\n",
    "else:\n",
    "    yml = Path.home() / \"tmp/new_pv_cfg.yml\"\n",
    "    write_config(yml, \"One large group config resulting in two updates\", [g1], upds)"
   ]
  },
  {
   "cell_type": "code",
   "execution_count": null,
   "id": "35926639-be54-4e3e-b687-d1edf0e2471d",
   "metadata": {},
   "outputs": [],
   "source": []
  },
  {
   "cell_type": "code",
   "execution_count": null,
   "id": "58ea5680-7077-4d4a-9224-f4d520f53afa",
   "metadata": {},
   "outputs": [],
   "source": []
  }
 ],
 "metadata": {
  "kernelspec": {
   "display_name": "Python 3 (ipykernel)",
   "language": "python",
   "name": "python3"
  },
  "language_info": {
   "codemirror_mode": {
    "name": "ipython",
    "version": 3
   },
   "file_extension": ".py",
   "mimetype": "text/x-python",
   "name": "python",
   "nbconvert_exporter": "python",
   "pygments_lexer": "ipython3",
   "version": "3.9.16"
  }
 },
 "nbformat": 4,
 "nbformat_minor": 5
}
